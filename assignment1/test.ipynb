{
 "cells": [
  {
   "cell_type": "code",
   "execution_count": 13,
   "metadata": {},
   "outputs": [
    {
     "name": "stdout",
     "output_type": "stream",
     "text": [
      "Node A: Normalized Betweenness Centrality = 0.0636\n",
      "Node C: Normalized Betweenness Centrality = 0.5545\n",
      "Node B: Normalized Betweenness Centrality = 0.1545\n",
      "Node D: Normalized Betweenness Centrality = 0.0091\n",
      "Node F: Normalized Betweenness Centrality = 0.0636\n",
      "Node G: Normalized Betweenness Centrality = 0.5727\n",
      "Node E: Normalized Betweenness Centrality = 0.0091\n",
      "Node H: Normalized Betweenness Centrality = 0.0424\n",
      "Node I: Normalized Betweenness Centrality = 0.0424\n",
      "Node K: Normalized Betweenness Centrality = 0.1697\n",
      "Node J: Normalized Betweenness Centrality = 0.0636\n",
      "Node L: Normalized Betweenness Centrality = 0.0000\n"
     ]
    }
   ],
   "source": [
    "import networkx as nx\n",
    "\n",
    "# Create an undirected graph\n",
    "G = nx.Graph()\n",
    "G.add_edges_from([\n",
    "    ('A', 'C'), ('A', 'B'), ('A', 'D'),\n",
    "    ('C', 'B'), ('C', 'F'), ('C', 'G'),\n",
    "    ('B', 'D'), ('B', 'E'), ('B', 'F'),\n",
    "    ('D', 'E'),\n",
    "    ('E', 'F'),\n",
    "    ('G', 'H'), ('G', 'I'), ('G', 'K'),\n",
    "    ('H', 'J'),\n",
    "    ('J', 'I'), ('J', 'K'), ('J', 'L'),\n",
    "    ('K', 'L')\n",
    "])\n",
    "\n",
    "# Calculate normalized betweenness centrality\n",
    "betweenness = nx.betweenness_centrality(G, normalized=True)\n",
    "\n",
    "# Print the results\n",
    "for node, centrality in betweenness.items():\n",
    "    print(f\"Node {node}: Normalized Betweenness Centrality = {centrality:.4f}\")"
   ]
  },
  {
   "cell_type": "code",
   "execution_count": 11,
   "metadata": {},
   "outputs": [
    {
     "name": "stdout",
     "output_type": "stream",
     "text": [
      "Node A: Normalized Closeness Centrality = 0.4231\n",
      "Node C: Normalized Closeness Centrality = 0.5500\n",
      "Node B: Normalized Closeness Centrality = 0.4583\n",
      "Node D: Normalized Closeness Centrality = 0.3438\n",
      "Node F: Normalized Closeness Centrality = 0.4231\n",
      "Node G: Normalized Closeness Centrality = 0.5500\n",
      "Node E: Normalized Closeness Centrality = 0.3438\n",
      "Node H: Normalized Closeness Centrality = 0.4074\n",
      "Node I: Normalized Closeness Centrality = 0.4074\n",
      "Node K: Normalized Closeness Centrality = 0.4231\n",
      "Node J: Normalized Closeness Centrality = 0.3548\n",
      "Node L: Normalized Closeness Centrality = 0.3333\n"
     ]
    }
   ],
   "source": [
    "import networkx as nx\n",
    "\n",
    "# Create an undirected graph\n",
    "G = nx.Graph()\n",
    "G.add_edges_from([\n",
    "    ('A', 'C'), ('A', 'B'), ('A', 'D'),\n",
    "    ('C', 'B'), ('C', 'F'), ('C', 'G'),\n",
    "    ('B', 'D'), ('B', 'E'), ('B', 'F'),\n",
    "    ('D', 'E'),\n",
    "    ('E', 'F'),\n",
    "    ('G', 'H'), ('G', 'I'), ('G', 'K'),\n",
    "    ('H', 'J'),\n",
    "    ('J', 'I'), ('J', 'K'), ('J', 'L'),\n",
    "    ('K', 'L')\n",
    "])\n",
    "# Calculate normalized closeness centrality\n",
    "closeness = nx.closeness_centrality(G)\n",
    "\n",
    "# Print the results\n",
    "for node, centrality in closeness.items():\n",
    "    print(f\"Node {node}: Normalized Closeness Centrality = {centrality:.4f}\")"
   ]
  },
  {
   "cell_type": "code",
   "execution_count": 18,
   "metadata": {},
   "outputs": [
    {
     "data": {
      "image/png": "[encoded data removed]",
      "text/plain": [
       "<Figure size 640x480 with 1 Axes>"
      ]
     },
     "metadata": {},
     "output_type": "display_data"
    }
   ],
   "source": [
    "import networkx as nx\n",
    "import matplotlib.pyplot as plt\n",
    "\n",
    "# Create an undirected graph\n",
    "G = nx.Graph()\n",
    "G.add_edges_from([\n",
    "    (1, 2), (1, 3), (1, 4),\n",
    "    (2, 3), (2, 6), (2, 7),\n",
    "    (3, 4), (3, 5), (3, 6),\n",
    "    (4, 5),\n",
    "    (5, 6),\n",
    "    (7, 8), (7, 10), (7, 11),\n",
    "    (8, 9),\n",
    "    (9, 10), (9, 11), (9, 12),\n",
    "    (11, 12)\n",
    "])\n",
    "\n",
    "# Get the degree of each node\n",
    "degree_sequence = [G.degree(n) for n in G.nodes()]\n",
    "\n",
    "# Create a histogram of the degree distribution\n",
    "plt.hist(degree_sequence, bins=range(max(degree_sequence) + 2), align='left', color='skyblue', edgecolor='black')\n",
    "\n",
    "# Label the axes\n",
    "plt.title(\"Degree Distribution\")\n",
    "plt.xlabel(\"Degree\")\n",
    "plt.ylabel(\"Frequency\")\n",
    "plt.xticks(range(max(degree_sequence) + 1))\n",
    "plt.savefig('degree_distribution.png')\n",
    "# Show the plot\n",
    "plt.show()\n"
   ]
  },
  {
   "cell_type": "code",
   "execution_count": 17,
   "metadata": {},
   "outputs": [
    {
     "name": "stdout",
     "output_type": "stream",
     "text": [
      "Degrees of nodes: [3, 4, 5, 3, 3, 4, 3, 2, 2, 3, 4, 2]\n",
      "Maximum degree (D_max): 5\n",
      "Number of nodes (N): 12\n",
      "Centralization numerator (∑(D_max - D_i)): 22\n",
      "Freeman's Degree Centralization (C_D): 0.2\n",
      "The network has a degree of centralization, indicating some nodes are more central.\n"
     ]
    }
   ],
   "source": [
    "import networkx as nx  \n",
    "\n",
    "# Step 1: Create the graph  \n",
    "G = nx.Graph()  \n",
    "G.add_edges_from([  \n",
    "    ('A', 'C'), ('A', 'B'), ('A', 'D'),  \n",
    "    ('C', 'B'), ('C', 'F'), ('C', 'G'),  \n",
    "    ('B', 'D'), ('B', 'E'), ('B', 'F'),  \n",
    "    ('D', 'E'),  \n",
    "    ('E', 'F'),  \n",
    "    ('G', 'H'), ('G', 'I'), ('G', 'K'),  \n",
    "    ('H', 'J'),  \n",
    "    ('J', 'I'), ('J', 'K'), ('J', 'L'),  \n",
    "    ('K', 'L')  \n",
    "])  \n",
    "\n",
    "# Step 2: Calculate node degrees  \n",
    "degree_sequence = [G.degree(n) for n in G.nodes()]  \n",
    "print(\"Degrees of nodes:\", degree_sequence)  \n",
    "\n",
    "# Step 3: Find maximum degree  \n",
    "D_max = max(degree_sequence)  \n",
    "print(f\"Maximum degree (D_max): {D_max}\")  \n",
    "\n",
    "# Step 4: Get number of nodes  \n",
    "n = G.number_of_nodes()  \n",
    "print(f\"Number of nodes (N): {n}\")  \n",
    "\n",
    "# Step 5: Compute centralization numerator using formula ∑(C_D(v^*) - C_D(v_i))  \n",
    "centralization_numerator = sum(D_max - d for d in degree_sequence)  \n",
    "print(f\"Centralization numerator (∑(D_max - D_i)): {centralization_numerator}\")  \n",
    "\n",
    "# Step 6: Calculate Freeman’s centralization using formula C_D(G) = [∑(C_D(v^*)−C_D(v_i))] / [(N−1)(N−2)]  \n",
    "C_D = centralization_numerator / ((n - 1) * (n - 2)) if (n - 1) * (n - 2) != 0 else 0  \n",
    "print(f\"Freeman's Degree Centralization (C_D): {C_D}\")  \n",
    "\n",
    "# Step 7: Interpret the result  \n",
    "if C_D > 0:  \n",
    "    print(\"The network has a degree of centralization, indicating some nodes are more central.\")  \n",
    "else:  \n",
    "    print(\"The network is completely decentralized.\")  "
   ]
  },
  {
   "cell_type": "code",
   "execution_count": 24,
   "metadata": {},
   "outputs": [
    {
     "name": "stdout",
     "output_type": "stream",
     "text": [
      "Betweenness Centrality (before): {'A': 0.06363636363636363, 'C': 0.5545454545454545, 'B': 0.15454545454545454, 'D': 0.00909090909090909, 'F': 0.06363636363636363, 'G': 0.5727272727272728, 'E': 0.00909090909090909, 'H': 0.04242424242424242, 'I': 0.04242424242424242, 'K': 0.16969696969696968, 'J': 0.06363636363636363, 'L': 0.0}\n",
      "Closeness Centrality (before): {'A': 0.4230769230769231, 'C': 0.55, 'B': 0.4583333333333333, 'D': 0.34375, 'F': 0.4230769230769231, 'G': 0.55, 'E': 0.34375, 'H': 0.4074074074074074, 'I': 0.4074074074074074, 'K': 0.4230769230769231, 'J': 0.3548387096774194, 'L': 0.3333333333333333}\n",
      "Degrees of nodes: [3, 4, 5, 3, 3, 4, 3, 2, 2, 3, 4, 2]\n",
      "Maximum degree (D_max): 5\n",
      "Number of nodes (N): 12\n",
      "Centralization numerator (∑(D_max - D_i)): 22\n",
      "Freeman's Degree Centralization (C_D): 0.2\n",
      "new now...\n",
      "\n",
      "Betweenness Centrality (after): {'A': 0.06363636363636363, 'C': 0.5545454545454545, 'B': 0.15454545454545454, 'D': 0.00909090909090909, 'F': 0.06363636363636363, 'G': 0.5636363636363636, 'E': 0.00909090909090909, 'H': 0.04242424242424242, 'I': 0.04242424242424242, 'K': 0.16969696969696968, 'J': 0.05454545454545454, 'L': 0.0}\n",
      "Closeness Centrality (after): {'A': 0.4230769230769231, 'C': 0.55, 'B': 0.4583333333333333, 'D': 0.34375, 'F': 0.4230769230769231, 'G': 0.55, 'E': 0.34375, 'H': 0.4230769230769231, 'I': 0.4230769230769231, 'K': 0.4230769230769231, 'J': 0.3548387096774194, 'L': 0.3333333333333333}\n",
      "Degrees of nodes: [3, 4, 5, 3, 3, 4, 3, 3, 3, 3, 4, 2]\n",
      "Maximum degree (D_max): 5\n",
      "Number of nodes (N): 12\n",
      "Centralization numerator (∑(D_max - D_i)): 20\n",
      "Freeman's Degree Centralization (C_D): 0.18181818181818182\n"
     ]
    }
   ],
   "source": [
    "import networkx as nx\n",
    "\n",
    "# Create the original graph\n",
    "G = nx.Graph()\n",
    "G.add_edges_from([\n",
    "    ('A', 'C'), ('A', 'B'), ('A', 'D'),\n",
    "    ('C', 'B'), ('C', 'F'), ('C', 'G'),\n",
    "    ('B', 'D'), ('B', 'E'), ('B', 'F'),\n",
    "    ('D', 'E'),\n",
    "    ('E', 'F'),\n",
    "    ('G', 'H'), ('G', 'I'), ('G', 'K'),\n",
    "    ('H', 'J'),\n",
    "    ('J', 'I'), ('J', 'K'), ('J', 'L'),\n",
    "    ('K', 'L')\n",
    "])\n",
    "\n",
    "# Step 1: Calculate centralities before adding the edge\n",
    "betweenness_before = nx.betweenness_centrality(G)\n",
    "closeness_before = nx.closeness_centrality(G)\n",
    "\n",
    "\n",
    "# Display results\n",
    "print(\"Betweenness Centrality (before):\", betweenness_before)\n",
    "print(\"Closeness Centrality (before):\", closeness_before)\n",
    "degree_sequence = [G.degree(n) for n in G.nodes()]  \n",
    "print(\"Degrees of nodes:\", degree_sequence)  \n",
    "\n",
    "# Step 3: Find maximum degree  \n",
    "D_max = max(degree_sequence)  \n",
    "print(f\"Maximum degree (D_max): {D_max}\")  \n",
    "\n",
    "# Step 4: Get number of nodes  \n",
    "n = G.number_of_nodes()  \n",
    "print(f\"Number of nodes (N): {n}\")  \n",
    "\n",
    "# Step 5: Compute centralization numerator using formula ∑(C_D(v^*) - C_D(v_i))  \n",
    "centralization_numerator = sum(D_max - d for d in degree_sequence)  \n",
    "print(f\"Centralization numerator (∑(D_max - D_i)): {centralization_numerator}\")  \n",
    "\n",
    "# Step 6: Calculate Freeman’s centralization using formula C_D(G) = [∑(C_D(v^*)−C_D(v_i))] / [(N−1)(N−2)]  \n",
    "C_D = centralization_numerator / ((n - 1) * (n - 2)) if (n - 1) * (n - 2) != 0 else 0  \n",
    "print(f\"Freeman's Degree Centralization (C_D): {C_D}\")  \n",
    "\n",
    "print(\"new now...\")\n",
    "# Step 2: Add the edge between F and G\n",
    "G.add_edge('H', 'I')\n",
    "\n",
    "# Step 3: Calculate centralities after adding the edge\n",
    "betweenness_after = nx.betweenness_centrality(G)\n",
    "closeness_after = nx.closeness_centrality(G)\n",
    "\n",
    "# Display results\n",
    "print(\"\\nBetweenness Centrality (after):\", betweenness_after)\n",
    "print(\"Closeness Centrality (after):\", closeness_after)\n",
    "degree_sequence = [G.degree(n) for n in G.nodes()]  \n",
    "print(\"Degrees of nodes:\", degree_sequence)  \n",
    "\n",
    "# Step 3: Find maximum degree  \n",
    "D_max = max(degree_sequence)  \n",
    "print(f\"Maximum degree (D_max): {D_max}\")  \n",
    "\n",
    "# Step 4: Get number of nodes  \n",
    "n = G.number_of_nodes()  \n",
    "print(f\"Number of nodes (N): {n}\")  \n",
    "\n",
    "# Step 5: Compute centralization numerator using formula ∑(C_D(v^*) - C_D(v_i))  \n",
    "centralization_numerator = sum(D_max - d for d in degree_sequence)  \n",
    "print(f\"Centralization numerator (∑(D_max - D_i)): {centralization_numerator}\")  \n",
    "\n",
    "# Step 6: Calculate Freeman’s centralization using formula C_D(G) = [∑(C_D(v^*)−C_D(v_i))] / [(N−1)(N−2)]  \n",
    "C_D = centralization_numerator / ((n - 1) * (n - 2)) if (n - 1) * (n - 2) != 0 else 0  \n",
    "print(f\"Freeman's Degree Centralization (C_D): {C_D}\")  "
   ]
  },
  {
   "cell_type": "code",
   "execution_count": 25,
   "metadata": {},
   "outputs": [
    {
     "name": "stdout",
     "output_type": "stream",
     "text": [
      "Maximal Cliques: [['K', 'L', 'J'], ['K', 'G'], ['G', 'C'], ['G', 'I'], ['G', 'H'], ['H', 'J'], ['J', 'I'], ['B', 'C', 'F'], ['B', 'C', 'A'], ['B', 'E', 'F'], ['B', 'E', 'D'], ['B', 'D', 'A']]\n"
     ]
    }
   ],
   "source": [
    "import networkx as nx\n",
    "\n",
    "# Create the graph\n",
    "G = nx.Graph()\n",
    "G.add_edges_from([\n",
    "    ('A', 'C'), ('A', 'B'), ('A', 'D'),\n",
    "    ('C', 'B'), ('C', 'F'), ('C', 'G'),\n",
    "    ('B', 'D'), ('B', 'E'), ('B', 'F'),\n",
    "    ('D', 'E'),\n",
    "    ('E', 'F'),\n",
    "    ('G', 'H'), ('G', 'I'), ('G', 'K'),\n",
    "    ('H', 'J'),\n",
    "    ('J', 'I'), ('J', 'K'), ('J', 'L'),\n",
    "    ('K', 'L')\n",
    "])\n",
    "\n",
    "# Find maximal cliques\n",
    "maximal_cliques = list(nx.find_cliques(G))\n",
    "print(\"Maximal Cliques:\", maximal_cliques)"
   ]
  },
  {
   "cell_type": "code",
   "execution_count": 26,
   "metadata": {},
   "outputs": [
    {
     "name": "stdout",
     "output_type": "stream",
     "text": [
      "k-value for group {A, B, C, D, E, F}: 3\n",
      "k-value for group {G, H, I, J, K, L}: 2\n"
     ]
    }
   ],
   "source": [
    "# Define the subgraphs\n",
    "subgraph1 = G.subgraph(['A', 'B', 'C', 'D', 'E', 'F'])\n",
    "subgraph2 = G.subgraph(['G', 'H', 'I', 'J', 'K', 'L'])\n",
    "\n",
    "# Calculate k-core for each subgroup\n",
    "k_core1 = nx.k_core(subgraph1)\n",
    "k_core2 = nx.k_core(subgraph2)\n",
    "\n",
    "# Determine the k values\n",
    "k_value1 = min(dict(k_core1.degree()).values())\n",
    "k_value2 = min(dict(k_core2.degree()).values())\n",
    "\n",
    "print(f\"k-value for group {{A, B, C, D, E, F}}: {k_value1}\")\n",
    "print(f\"k-value for group {{G, H, I, J, K, L}}: {k_value2}\")"
   ]
  },
  {
   "cell_type": "code",
   "execution_count": null,
   "metadata": {},
   "outputs": [],
   "source": []
  }
 ],
 "metadata": {
  "kernelspec": {
   "display_name": "Python 3",
   "language": "python",
   "name": "python3"
  },
  "language_info": {
   "codemirror_mode": {
    "name": "ipython",
    "version": 3
   },
   "file_extension": ".py",
   "mimetype": "text/x-python",
   "name": "python",
   "nbconvert_exporter": "python",
   "pygments_lexer": "ipython3",
   "version": "3.12.9"
  }
 },
 "nbformat": 4,
 "nbformat_minor": 2
}
